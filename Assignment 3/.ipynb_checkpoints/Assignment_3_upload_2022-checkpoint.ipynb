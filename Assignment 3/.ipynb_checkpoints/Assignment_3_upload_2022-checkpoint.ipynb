{
 "cells": [
  {
   "cell_type": "markdown",
   "metadata": {},
   "source": [
    "### Assignment 3"
   ]
  },
  {
   "cell_type": "markdown",
   "metadata": {},
   "source": [
    "#### Chapter 4. Writing Structured Programs"
   ]
  },
  {
   "cell_type": "markdown",
   "metadata": {},
   "source": [
    "#### 1. Create a list of words = ['is', 'it', 'good', '?']. a) Use a series of assignment statements (e.g. words[1] = words[2]) and a temporary variable tmp to transform this list into the list ['it', 'is', 'good', '!']. b) Now do the same transformation using tuple assignment."
   ]
  },
  {
   "cell_type": "code",
   "execution_count": 1,
   "metadata": {},
   "outputs": [],
   "source": [
    "sample = ['is', 'it', 'good', '?']"
   ]
  },
  {
   "cell_type": "code",
   "execution_count": 2,
   "metadata": {},
   "outputs": [
    {
     "data": {
      "text/plain": [
       "['it', 'is', 'good', '!']"
      ]
     },
     "execution_count": 2,
     "metadata": {},
     "output_type": "execute_result"
    }
   ],
   "source": [
    "#  a) Use a series of assignment statements \n",
    "sampe_e = sample[0]\n",
    "sample[0] = sample[1]\n",
    "sample[1] = sampe_e\n",
    "sample[3] = '!'\n",
    "sample"
   ]
  },
  {
   "cell_type": "code",
   "execution_count": null,
   "metadata": {},
   "outputs": [],
   "source": []
  },
  {
   "cell_type": "code",
   "execution_count": 3,
   "metadata": {},
   "outputs": [],
   "source": [
    "\n",
    "# b) Now do the same transformation using tuple assignment.\n",
    "sample = ['is', 'it', 'good', '?']\n",
    "sampe_t = ['!']"
   ]
  },
  {
   "cell_type": "code",
   "execution_count": 4,
   "metadata": {},
   "outputs": [],
   "source": [
    "sample[3] = sampe_t[0]\n",
    "\n",
    "sample[0], sample[1] = sample[1], sample[0]"
   ]
  },
  {
   "cell_type": "code",
   "execution_count": 5,
   "metadata": {},
   "outputs": [
    {
     "data": {
      "text/plain": [
       "['it', 'is', 'good', '!']"
      ]
     },
     "execution_count": 5,
     "metadata": {},
     "output_type": "execute_result"
    }
   ],
   "source": [
    "sample"
   ]
  },
  {
   "cell_type": "code",
   "execution_count": null,
   "metadata": {},
   "outputs": [],
   "source": []
  },
  {
   "cell_type": "code",
   "execution_count": null,
   "metadata": {},
   "outputs": [],
   "source": []
  },
  {
   "cell_type": "markdown",
   "metadata": {},
   "source": [
    "#### 2.Write code that removes whitespace at the beginning and end of a string ('   this   is   a    sample   sentence   '), and normalizes whitespace between words to be a single space character.\n",
    "#### a) do this task using split() and join()\n",
    "#### b) do this task using regular expression substitutions"
   ]
  },
  {
   "cell_type": "code",
   "execution_count": 6,
   "metadata": {},
   "outputs": [],
   "source": [
    "string = ' this is a sample sentence '\n",
    "string2 = 'this is a sample sentence'"
   ]
  },
  {
   "cell_type": "code",
   "execution_count": 7,
   "metadata": {},
   "outputs": [],
   "source": [
    "# a) do this task using split() and join()\n",
    "\n",
    "def white_space(string):\n",
    "    x = string.split()\n",
    "    x = ' '.join(x)\n",
    "    return x"
   ]
  },
  {
   "cell_type": "code",
   "execution_count": 8,
   "metadata": {},
   "outputs": [
    {
     "data": {
      "text/plain": [
       "'this is a sample sentence'"
      ]
     },
     "execution_count": 8,
     "metadata": {},
     "output_type": "execute_result"
    }
   ],
   "source": [
    "white_space(string)"
   ]
  },
  {
   "cell_type": "code",
   "execution_count": 9,
   "metadata": {},
   "outputs": [],
   "source": [
    "import nltk\n",
    "import re\n",
    "import pprint"
   ]
  },
  {
   "cell_type": "code",
   "execution_count": 10,
   "metadata": {},
   "outputs": [],
   "source": [
    "# b) do this task using regular expression substitutions\n",
    "\n",
    "import nltk\n",
    "\n",
    "def white_space2(string):\n",
    "    x = re.split(r'\\W', string)\n",
    "    x = re.sub(r\"\\s+\", r\"\", x)\n",
    "    [w for w in x if re.search('^[a-z][A-Z]', w)]\n",
    "    return x\n",
    "\n",
    "    \n",
    "\n"
   ]
  },
  {
   "cell_type": "code",
   "execution_count": 11,
   "metadata": {},
   "outputs": [
    {
     "data": {
      "text/plain": [
       "['', 'this', 'is', 'a', 'sample', 'sentence', '']"
      ]
     },
     "execution_count": 11,
     "metadata": {},
     "output_type": "execute_result"
    }
   ],
   "source": [
    "x = re.split(r'\\W', string)\n",
    "y = re.sub(r\"\\s+\", r\"\", string)\n",
    "x"
   ]
  },
  {
   "cell_type": "code",
   "execution_count": 12,
   "metadata": {},
   "outputs": [
    {
     "data": {
      "text/plain": [
       "'thisisasamplesentence'"
      ]
     },
     "execution_count": 12,
     "metadata": {},
     "output_type": "execute_result"
    }
   ],
   "source": [
    "y"
   ]
  },
  {
   "cell_type": "markdown",
   "metadata": {},
   "source": [
    "#### 3. sent1=['The', 'dog', 'gave', 'John', 'the', 'newspaper']. Now assign sent2=sent1. Modify sent1[1]='monkey'. Please review section 4.1 -Assignment in Chapter 4 to answer the following questions:\n",
    "#### a) verify that sent2 has changed\n",
    "#### b) Now try the same exercise but instead assign sent2=sent1[:]. Modify sent1[1]='monkey' and see what happens to sent2. Explain.\n",
    "#### c) Now define text1=[['The', 'dog', 'gave', 'John', 'the', 'newspaper'], ['John', 'is', 'happy']]. Now assign text2=text1[:], assign a new value to one of the words (text1[0][1]='monkey'). Check what happens to text2. Explain.\n",
    "#### d) Extract successive overlapping 4-grams from ['The', 'dog', 'gave', 'John', 'the', 'newspaper']. "
   ]
  },
  {
   "cell_type": "code",
   "execution_count": 13,
   "metadata": {},
   "outputs": [],
   "source": [
    "# a) verify that sent2 has changed\n",
    "\n",
    "sent1=['The', 'dog', 'gave', 'John', 'the', 'newspaper']\n",
    "sent2=sent1\n",
    "sent1[1]='monkey'\n"
   ]
  },
  {
   "cell_type": "code",
   "execution_count": 14,
   "metadata": {},
   "outputs": [
    {
     "data": {
      "text/plain": [
       "['The', 'monkey', 'gave', 'John', 'the', 'newspaper']"
      ]
     },
     "execution_count": 14,
     "metadata": {},
     "output_type": "execute_result"
    }
   ],
   "source": [
    "#The value has changed\n",
    "\n",
    "sent2"
   ]
  },
  {
   "cell_type": "markdown",
   "metadata": {},
   "source": [
    "# b) Now try the same exercise but instead assign sent2=sent1[:]. Modify sent1[1]='monkey' and see what happens to sent2. Explain."
   ]
  },
  {
   "cell_type": "code",
   "execution_count": 15,
   "metadata": {},
   "outputs": [
    {
     "data": {
      "text/plain": [
       "['The', 'dog', 'gave', 'John', 'the', 'newspaper']"
      ]
     },
     "execution_count": 15,
     "metadata": {},
     "output_type": "execute_result"
    }
   ],
   "source": [
    "sent1=['The', 'dog', 'gave', 'John', 'the', 'newspaper']\n",
    "sent2=sent1[:]\n",
    "sent1[1]='monkey'\n",
    "sent2\n",
    "\n",
    "# This methods assign entire sent1 as sents2 at the moment and it doesn't change dog to monkey\n",
    "# where as the first method only assign second material from sent1 and it change dog to monkey\n",
    "# The difference is [:] makes A shallow copy which creates a new object which stores the reference of the original elements."
   ]
  },
  {
   "cell_type": "markdown",
   "metadata": {},
   "source": [
    "c) Now define text1=[['The', 'dog', 'gave', 'John', 'the', 'newspaper'], ['John', 'is', 'happy']]. Now assign text2=text1[:], assign a new value to one of the words (text1[0][1]='monkey'). Check what happens to text2. Explain."
   ]
  },
  {
   "cell_type": "code",
   "execution_count": 17,
   "metadata": {},
   "outputs": [],
   "source": [
    "text1=[['The', 'dog', 'gave', 'John', 'the', 'newspaper']]"
   ]
  },
  {
   "cell_type": "code",
   "execution_count": 18,
   "metadata": {},
   "outputs": [],
   "source": [
    "text2=text1[:]"
   ]
  },
  {
   "cell_type": "code",
   "execution_count": 19,
   "metadata": {},
   "outputs": [],
   "source": [
    "text1[0][1]='monkey'"
   ]
  },
  {
   "cell_type": "code",
   "execution_count": 20,
   "metadata": {},
   "outputs": [
    {
     "data": {
      "text/plain": [
       "[['The', 'monkey', 'gave', 'John', 'the', 'newspaper']]"
      ]
     },
     "execution_count": 20,
     "metadata": {},
     "output_type": "execute_result"
    }
   ],
   "source": [
    "text1"
   ]
  },
  {
   "cell_type": "code",
   "execution_count": 21,
   "metadata": {},
   "outputs": [
    {
     "data": {
      "text/plain": [
       "[['The', 'monkey', 'gave', 'John', 'the', 'newspaper']]"
      ]
     },
     "execution_count": 21,
     "metadata": {},
     "output_type": "execute_result"
    }
   ],
   "source": [
    "text2"
   ]
  },
  {
   "cell_type": "code",
   "execution_count": 22,
   "metadata": {},
   "outputs": [],
   "source": [
    "#This method doesn't create a shallow copy and directly use it from text 1"
   ]
  },
  {
   "cell_type": "markdown",
   "metadata": {},
   "source": [
    "d) Extract successive overlapping 4-grams from ['The', 'dog', 'gave', 'John', 'the', 'newspaper']."
   ]
  },
  {
   "cell_type": "code",
   "execution_count": 23,
   "metadata": {},
   "outputs": [],
   "source": [
    "sent = ['The', 'dog', 'gave', 'John', 'the', 'newspaper']"
   ]
  },
  {
   "cell_type": "code",
   "execution_count": 24,
   "metadata": {},
   "outputs": [],
   "source": [
    "n = 4"
   ]
  },
  {
   "cell_type": "code",
   "execution_count": 25,
   "metadata": {},
   "outputs": [
    {
     "data": {
      "text/plain": [
       "[['The', 'dog', 'gave', 'John'],\n",
       " ['dog', 'gave', 'John', 'the'],\n",
       " ['gave', 'John', 'the', 'newspaper']]"
      ]
     },
     "execution_count": 25,
     "metadata": {},
     "output_type": "execute_result"
    }
   ],
   "source": [
    "[sent[i:i+n] for i in range(len(sent)-n+1)]"
   ]
  },
  {
   "cell_type": "markdown",
   "metadata": {},
   "source": [
    "#### 4. Write a function that prints any word that appeared in the last 20% of a text that had not been encountered earlier. Use text1 from nltk.book to call this function."
   ]
  },
  {
   "cell_type": "code",
   "execution_count": 185,
   "metadata": {},
   "outputs": [],
   "source": [
    "from nltk.book import *"
   ]
  },
  {
   "cell_type": "code",
   "execution_count": 27,
   "metadata": {},
   "outputs": [
    {
     "data": {
      "text/plain": [
       "260819"
      ]
     },
     "execution_count": 27,
     "metadata": {},
     "output_type": "execute_result"
    }
   ],
   "source": [
    "len(sorted((w.lower() for w in text1)))"
   ]
  },
  {
   "cell_type": "code",
   "execution_count": 81,
   "metadata": {},
   "outputs": [],
   "source": [
    "import math\n",
    "import nltk\n",
    "from nltk import sent_tokenize, word_tokenize, PorterStemmer\n",
    "from nltk.corpus import stopwords    \n",
    "\n",
    "def hi(text):\n",
    "    length = len(sorted((w.lower() for w in text)))\n",
    "    threshold = round(length*0.2)\n",
    "    text_up = text[:threshold]\n",
    "    threshold += 1\n",
    "    text_down = text[threshold:]\n",
    "    text_top = sorted(w for w in set(text_up) if w.isalpha())\n",
    "    text_bottom = sorted(w for w in set(text_down) if w.isalpha())\n",
    "    for element in text_bottom:\n",
    "        if element in text_top:\n",
    "            text_bottom.remove(element)\n",
    "    print(random.choice(text_bottom))"
   ]
  },
  {
   "cell_type": "code",
   "execution_count": 66,
   "metadata": {},
   "outputs": [
    {
     "name": "stdout",
     "output_type": "stream",
     "text": [
      "Cyclades\n"
     ]
    }
   ],
   "source": [
    "hi(text1)"
   ]
  },
  {
   "cell_type": "code",
   "execution_count": 113,
   "metadata": {},
   "outputs": [
    {
     "name": "stdout",
     "output_type": "stream",
     "text": [
      "lasts\n"
     ]
    }
   ],
   "source": [
    "hi(text1)"
   ]
  },
  {
   "cell_type": "markdown",
   "metadata": {},
   "source": [
    "#### 5. Write a program that takes the sentence (\"we have seen two kinds of two sequence objects\") expressed as a single string, splits it and counts up the tokens. Get it to print out each token and the token's frequency, one per line, in alphabetical order. You should write a function and call that function to process the sentence."
   ]
  },
  {
   "cell_type": "code",
   "execution_count": 84,
   "metadata": {},
   "outputs": [],
   "source": [
    "sent = \"we have seen two kinds of two sequence objects\""
   ]
  },
  {
   "cell_type": "code",
   "execution_count": 111,
   "metadata": {},
   "outputs": [],
   "source": [
    "from collections import OrderedDict\n",
    "\n",
    "def token(sent):\n",
    "    stopWords = set(stopwords.words(\"english\"))\n",
    "    ps = PorterStemmer()\n",
    "    string = str(sent)\n",
    "    split = string.split()\n",
    "    length = len(split)\n",
    "    print(f\"number of tokens is {length}\")\n",
    "    freq_table = {}\n",
    "    for word in split:\n",
    "        if word in freq_table:\n",
    "            freq_table[word] += 1\n",
    "        else:\n",
    "            freq_table[word] = 1\n",
    "    dict1 = OrderedDict(sorted(freq_table.items()))\n",
    "    for k, v in dict1.items():\n",
    "        print(k, v)\n",
    "    "
   ]
  },
  {
   "cell_type": "code",
   "execution_count": 112,
   "metadata": {},
   "outputs": [
    {
     "name": "stdout",
     "output_type": "stream",
     "text": [
      "number of tokens is 9\n",
      "have 1\n",
      "kinds 1\n",
      "objects 1\n",
      "of 1\n",
      "seen 1\n",
      "sequence 1\n",
      "two 2\n",
      "we 1\n"
     ]
    }
   ],
   "source": [
    "token(sent)"
   ]
  },
  {
   "cell_type": "markdown",
   "metadata": {},
   "source": [
    "#### 6. Write a function shorten(word, n) to process a text (“big big big world today tomorrow good Today good”), omitting the n most frequently occurring words of the text. You should use w.lower() to normalize the text first. Please call this shorten function."
   ]
  },
  {
   "cell_type": "code",
   "execution_count": 123,
   "metadata": {},
   "outputs": [],
   "source": [
    "def shorten(word,n):\n",
    "    words = word.split()\n",
    "    words = [word.lower() for word in words]\n",
    "    ngram = [words[i:i+n] for i in range(len(words)-n+1)]\n",
    "    return ngram"
   ]
  },
  {
   "cell_type": "code",
   "execution_count": 124,
   "metadata": {},
   "outputs": [
    {
     "data": {
      "text/plain": [
       "[['big', 'big', 'big'],\n",
       " ['big', 'big', 'world'],\n",
       " ['big', 'world', 'today'],\n",
       " ['world', 'today', 'tomorrow'],\n",
       " ['today', 'tomorrow', 'good'],\n",
       " ['tomorrow', 'good', 'today'],\n",
       " ['good', 'today', 'good']]"
      ]
     },
     "execution_count": 124,
     "metadata": {},
     "output_type": "execute_result"
    }
   ],
   "source": [
    "word = \"big big big world today tomorrow good Today good\"\n",
    "\n",
    "shorten(word,3)"
   ]
  },
  {
   "cell_type": "markdown",
   "metadata": {},
   "source": [
    "#### 7. Please use the sample code from Lab 4 about the TF-IDF to summarize your own text."
   ]
  },
  {
   "cell_type": "code",
   "execution_count": 125,
   "metadata": {},
   "outputs": [],
   "source": [
    "text = \"The current tax environment is characterized by tax authorities requiring increased transparency across jurisdictions, sharing information with each other and applying determined approaches to the tax management and collection process, but with a lack of consistency across borders. This is expanding the compliance workload for businesses, while they are exposed to increased tax risk and uncertainty about the sustainability of current business models and group structures. To help overcome these challenges, businesses are centralizing compliance, using technology to aggregate, validate and report for compliance purposes, and using data analytics on the information they have gathered to identify anomalies and mitigate risk. To manage this changing landscape, alongside the increased use of analytics, tax authorities and tax advisors are starting to explore the possibilities for deploying sophisticated data analytics and Artificial Intelligence (AI) in tax to facilitate compliance and assist professionals and their clients with commonly encountered questions. While data analytics has received a lot of attention, Artificial Intelligence in tax is a relatively new phenomenon.\""
   ]
  },
  {
   "cell_type": "code",
   "execution_count": 126,
   "metadata": {},
   "outputs": [],
   "source": [
    "sentences = nltk.sent_tokenize(text) # NLTK function\n",
    "total_documents = len(sentences)"
   ]
  },
  {
   "cell_type": "code",
   "execution_count": 127,
   "metadata": {},
   "outputs": [
    {
     "data": {
      "text/plain": [
       "5"
      ]
     },
     "execution_count": 127,
     "metadata": {},
     "output_type": "execute_result"
    }
   ],
   "source": [
    "total_documents"
   ]
  },
  {
   "cell_type": "code",
   "execution_count": 128,
   "metadata": {},
   "outputs": [],
   "source": [
    "def _create_frequency_matrix(sentences):\n",
    "    frequency_matrix = {}\n",
    "    stopWords = set(stopwords.words(\"english\"))\n",
    "    ps = PorterStemmer()\n",
    "\n",
    "    for sent in sentences:\n",
    "        freq_table = {}\n",
    "        words = word_tokenize(sent)\n",
    "        for word in words:\n",
    "            word = word.lower()\n",
    "            word = ps.stem(word)\n",
    "            if word in stopWords:\n",
    "                continue\n",
    "\n",
    "            if word in freq_table:\n",
    "                freq_table[word] += 1\n",
    "            else:\n",
    "                freq_table[word] = 1\n",
    "\n",
    "        frequency_matrix[sent[:15]] = freq_table\n",
    "    return frequency_matrix"
   ]
  },
  {
   "cell_type": "code",
   "execution_count": 129,
   "metadata": {},
   "outputs": [
    {
     "name": "stdout",
     "output_type": "stream",
     "text": [
      "{'The current tax': {'current': 1, 'tax': 3, 'environ': 1, 'character': 1, 'author': 1, 'requir': 1, 'increas': 1, 'transpar': 1, 'across': 2, 'jurisdict': 1, ',': 2, 'share': 1, 'inform': 1, 'appli': 1, 'determin': 1, 'approach': 1, 'manag': 1, 'collect': 1, 'process': 1, 'lack': 1, 'consist': 1, 'border': 1, '.': 1}, 'This is expandi': {'thi': 1, 'expand': 1, 'complianc': 1, 'workload': 1, 'busi': 2, ',': 1, 'expos': 1, 'increas': 1, 'tax': 1, 'risk': 1, 'uncertainti': 1, 'sustain': 1, 'current': 1, 'model': 1, 'group': 1, 'structur': 1, '.': 1}, 'To help overcom': {'help': 1, 'overcom': 1, 'challeng': 1, ',': 4, 'busi': 1, 'central': 1, 'complianc': 2, 'use': 2, 'technolog': 1, 'aggreg': 1, 'valid': 1, 'report': 1, 'purpos': 1, 'data': 1, 'analyt': 1, 'inform': 1, 'gather': 1, 'identifi': 1, 'anomali': 1, 'mitig': 1, 'risk': 1, '.': 1}, 'To manage this ': {'manag': 1, 'thi': 1, 'chang': 1, 'landscap': 1, ',': 2, 'alongsid': 1, 'increas': 1, 'use': 1, 'analyt': 2, 'tax': 3, 'author': 1, 'advisor': 1, 'start': 1, 'explor': 1, 'possibl': 1, 'deploy': 1, 'sophist': 1, 'data': 1, 'artifici': 1, 'intellig': 1, '(': 1, 'ai': 1, ')': 1, 'facilit': 1, 'complianc': 1, 'assist': 1, 'profession': 1, 'client': 1, 'commonli': 1, 'encount': 1, 'question': 1, '.': 1}, 'While data anal': {'data': 1, 'analyt': 1, 'ha': 1, 'receiv': 1, 'lot': 1, 'attent': 1, ',': 1, 'artifici': 1, 'intellig': 1, 'tax': 1, 'rel': 1, 'new': 1, 'phenomenon': 1, '.': 1}}\n"
     ]
    }
   ],
   "source": [
    "freq_matrix = _create_frequency_matrix(sentences)\n",
    "print(freq_matrix)"
   ]
  },
  {
   "cell_type": "code",
   "execution_count": 130,
   "metadata": {},
   "outputs": [],
   "source": [
    "def _create_tf_matrix(freq_matrix):\n",
    "    tf_matrix = {}\n",
    "\n",
    "    for sent, f_table in freq_matrix.items():\n",
    "        tf_table = {}\n",
    "\n",
    "        count_words_in_sentence = len(f_table)\n",
    "        for word, count in f_table.items():\n",
    "            tf_table[word] = count / count_words_in_sentence\n",
    "\n",
    "        tf_matrix[sent] = tf_table\n",
    "\n",
    "    return tf_matrix"
   ]
  },
  {
   "cell_type": "code",
   "execution_count": 131,
   "metadata": {},
   "outputs": [
    {
     "name": "stdout",
     "output_type": "stream",
     "text": [
      "{'The current tax': {'current': 0.043478260869565216, 'tax': 0.13043478260869565, 'environ': 0.043478260869565216, 'character': 0.043478260869565216, 'author': 0.043478260869565216, 'requir': 0.043478260869565216, 'increas': 0.043478260869565216, 'transpar': 0.043478260869565216, 'across': 0.08695652173913043, 'jurisdict': 0.043478260869565216, ',': 0.08695652173913043, 'share': 0.043478260869565216, 'inform': 0.043478260869565216, 'appli': 0.043478260869565216, 'determin': 0.043478260869565216, 'approach': 0.043478260869565216, 'manag': 0.043478260869565216, 'collect': 0.043478260869565216, 'process': 0.043478260869565216, 'lack': 0.043478260869565216, 'consist': 0.043478260869565216, 'border': 0.043478260869565216, '.': 0.043478260869565216}, 'This is expandi': {'thi': 0.058823529411764705, 'expand': 0.058823529411764705, 'complianc': 0.058823529411764705, 'workload': 0.058823529411764705, 'busi': 0.11764705882352941, ',': 0.058823529411764705, 'expos': 0.058823529411764705, 'increas': 0.058823529411764705, 'tax': 0.058823529411764705, 'risk': 0.058823529411764705, 'uncertainti': 0.058823529411764705, 'sustain': 0.058823529411764705, 'current': 0.058823529411764705, 'model': 0.058823529411764705, 'group': 0.058823529411764705, 'structur': 0.058823529411764705, '.': 0.058823529411764705}, 'To help overcom': {'help': 0.045454545454545456, 'overcom': 0.045454545454545456, 'challeng': 0.045454545454545456, ',': 0.18181818181818182, 'busi': 0.045454545454545456, 'central': 0.045454545454545456, 'complianc': 0.09090909090909091, 'use': 0.09090909090909091, 'technolog': 0.045454545454545456, 'aggreg': 0.045454545454545456, 'valid': 0.045454545454545456, 'report': 0.045454545454545456, 'purpos': 0.045454545454545456, 'data': 0.045454545454545456, 'analyt': 0.045454545454545456, 'inform': 0.045454545454545456, 'gather': 0.045454545454545456, 'identifi': 0.045454545454545456, 'anomali': 0.045454545454545456, 'mitig': 0.045454545454545456, 'risk': 0.045454545454545456, '.': 0.045454545454545456}, 'To manage this ': {'manag': 0.03125, 'thi': 0.03125, 'chang': 0.03125, 'landscap': 0.03125, ',': 0.0625, 'alongsid': 0.03125, 'increas': 0.03125, 'use': 0.03125, 'analyt': 0.0625, 'tax': 0.09375, 'author': 0.03125, 'advisor': 0.03125, 'start': 0.03125, 'explor': 0.03125, 'possibl': 0.03125, 'deploy': 0.03125, 'sophist': 0.03125, 'data': 0.03125, 'artifici': 0.03125, 'intellig': 0.03125, '(': 0.03125, 'ai': 0.03125, ')': 0.03125, 'facilit': 0.03125, 'complianc': 0.03125, 'assist': 0.03125, 'profession': 0.03125, 'client': 0.03125, 'commonli': 0.03125, 'encount': 0.03125, 'question': 0.03125, '.': 0.03125}, 'While data anal': {'data': 0.07142857142857142, 'analyt': 0.07142857142857142, 'ha': 0.07142857142857142, 'receiv': 0.07142857142857142, 'lot': 0.07142857142857142, 'attent': 0.07142857142857142, ',': 0.07142857142857142, 'artifici': 0.07142857142857142, 'intellig': 0.07142857142857142, 'tax': 0.07142857142857142, 'rel': 0.07142857142857142, 'new': 0.07142857142857142, 'phenomenon': 0.07142857142857142, '.': 0.07142857142857142}}\n"
     ]
    }
   ],
   "source": [
    "tf_matrix = _create_tf_matrix(freq_matrix)\n",
    "print(tf_matrix)"
   ]
  },
  {
   "cell_type": "code",
   "execution_count": 132,
   "metadata": {},
   "outputs": [],
   "source": [
    "def _create_documents_per_words(freq_matrix):\n",
    "    word_per_doc_table = {}\n",
    "\n",
    "    for sent, f_table in freq_matrix.items():\n",
    "        for word, count in f_table.items():\n",
    "            if word in word_per_doc_table:\n",
    "                word_per_doc_table[word] += 1\n",
    "            else:\n",
    "                word_per_doc_table[word] = 1\n",
    "\n",
    "    return word_per_doc_table"
   ]
  },
  {
   "cell_type": "code",
   "execution_count": 133,
   "metadata": {},
   "outputs": [
    {
     "name": "stdout",
     "output_type": "stream",
     "text": [
      "{'current': 2, 'tax': 4, 'environ': 1, 'character': 1, 'author': 2, 'requir': 1, 'increas': 3, 'transpar': 1, 'across': 1, 'jurisdict': 1, ',': 5, 'share': 1, 'inform': 2, 'appli': 1, 'determin': 1, 'approach': 1, 'manag': 2, 'collect': 1, 'process': 1, 'lack': 1, 'consist': 1, 'border': 1, '.': 5, 'thi': 2, 'expand': 1, 'complianc': 3, 'workload': 1, 'busi': 2, 'expos': 1, 'risk': 2, 'uncertainti': 1, 'sustain': 1, 'model': 1, 'group': 1, 'structur': 1, 'help': 1, 'overcom': 1, 'challeng': 1, 'central': 1, 'use': 2, 'technolog': 1, 'aggreg': 1, 'valid': 1, 'report': 1, 'purpos': 1, 'data': 3, 'analyt': 3, 'gather': 1, 'identifi': 1, 'anomali': 1, 'mitig': 1, 'chang': 1, 'landscap': 1, 'alongsid': 1, 'advisor': 1, 'start': 1, 'explor': 1, 'possibl': 1, 'deploy': 1, 'sophist': 1, 'artifici': 2, 'intellig': 2, '(': 1, 'ai': 1, ')': 1, 'facilit': 1, 'assist': 1, 'profession': 1, 'client': 1, 'commonli': 1, 'encount': 1, 'question': 1, 'ha': 1, 'receiv': 1, 'lot': 1, 'attent': 1, 'rel': 1, 'new': 1, 'phenomenon': 1}\n"
     ]
    }
   ],
   "source": [
    "count_doc_per_words = _create_documents_per_words(freq_matrix)\n",
    "print(count_doc_per_words)"
   ]
  },
  {
   "cell_type": "code",
   "execution_count": 134,
   "metadata": {},
   "outputs": [],
   "source": [
    "def _create_idf_matrix(freq_matrix, count_doc_per_words, total_documents):\n",
    "    idf_matrix = {}\n",
    "\n",
    "    for sent, f_table in freq_matrix.items():\n",
    "        idf_table = {}\n",
    "\n",
    "        for word in f_table.keys():\n",
    "            idf_table[word] = math.log10(total_documents / float(count_doc_per_words[word]))\n",
    "\n",
    "        idf_matrix[sent] = idf_table\n",
    "\n",
    "    return idf_matrix"
   ]
  },
  {
   "cell_type": "code",
   "execution_count": 135,
   "metadata": {},
   "outputs": [
    {
     "name": "stdout",
     "output_type": "stream",
     "text": [
      "{'The current tax': {'current': 0.3979400086720376, 'tax': 0.09691001300805642, 'environ': 0.6989700043360189, 'character': 0.6989700043360189, 'author': 0.3979400086720376, 'requir': 0.6989700043360189, 'increas': 0.2218487496163564, 'transpar': 0.6989700043360189, 'across': 0.6989700043360189, 'jurisdict': 0.6989700043360189, ',': 0.0, 'share': 0.6989700043360189, 'inform': 0.3979400086720376, 'appli': 0.6989700043360189, 'determin': 0.6989700043360189, 'approach': 0.6989700043360189, 'manag': 0.3979400086720376, 'collect': 0.6989700043360189, 'process': 0.6989700043360189, 'lack': 0.6989700043360189, 'consist': 0.6989700043360189, 'border': 0.6989700043360189, '.': 0.0}, 'This is expandi': {'thi': 0.3979400086720376, 'expand': 0.6989700043360189, 'complianc': 0.2218487496163564, 'workload': 0.6989700043360189, 'busi': 0.3979400086720376, ',': 0.0, 'expos': 0.6989700043360189, 'increas': 0.2218487496163564, 'tax': 0.09691001300805642, 'risk': 0.3979400086720376, 'uncertainti': 0.6989700043360189, 'sustain': 0.6989700043360189, 'current': 0.3979400086720376, 'model': 0.6989700043360189, 'group': 0.6989700043360189, 'structur': 0.6989700043360189, '.': 0.0}, 'To help overcom': {'help': 0.6989700043360189, 'overcom': 0.6989700043360189, 'challeng': 0.6989700043360189, ',': 0.0, 'busi': 0.3979400086720376, 'central': 0.6989700043360189, 'complianc': 0.2218487496163564, 'use': 0.3979400086720376, 'technolog': 0.6989700043360189, 'aggreg': 0.6989700043360189, 'valid': 0.6989700043360189, 'report': 0.6989700043360189, 'purpos': 0.6989700043360189, 'data': 0.2218487496163564, 'analyt': 0.2218487496163564, 'inform': 0.3979400086720376, 'gather': 0.6989700043360189, 'identifi': 0.6989700043360189, 'anomali': 0.6989700043360189, 'mitig': 0.6989700043360189, 'risk': 0.3979400086720376, '.': 0.0}, 'To manage this ': {'manag': 0.3979400086720376, 'thi': 0.3979400086720376, 'chang': 0.6989700043360189, 'landscap': 0.6989700043360189, ',': 0.0, 'alongsid': 0.6989700043360189, 'increas': 0.2218487496163564, 'use': 0.3979400086720376, 'analyt': 0.2218487496163564, 'tax': 0.09691001300805642, 'author': 0.3979400086720376, 'advisor': 0.6989700043360189, 'start': 0.6989700043360189, 'explor': 0.6989700043360189, 'possibl': 0.6989700043360189, 'deploy': 0.6989700043360189, 'sophist': 0.6989700043360189, 'data': 0.2218487496163564, 'artifici': 0.3979400086720376, 'intellig': 0.3979400086720376, '(': 0.6989700043360189, 'ai': 0.6989700043360189, ')': 0.6989700043360189, 'facilit': 0.6989700043360189, 'complianc': 0.2218487496163564, 'assist': 0.6989700043360189, 'profession': 0.6989700043360189, 'client': 0.6989700043360189, 'commonli': 0.6989700043360189, 'encount': 0.6989700043360189, 'question': 0.6989700043360189, '.': 0.0}, 'While data anal': {'data': 0.2218487496163564, 'analyt': 0.2218487496163564, 'ha': 0.6989700043360189, 'receiv': 0.6989700043360189, 'lot': 0.6989700043360189, 'attent': 0.6989700043360189, ',': 0.0, 'artifici': 0.3979400086720376, 'intellig': 0.3979400086720376, 'tax': 0.09691001300805642, 'rel': 0.6989700043360189, 'new': 0.6989700043360189, 'phenomenon': 0.6989700043360189, '.': 0.0}}\n"
     ]
    }
   ],
   "source": [
    "idf_matrix = _create_idf_matrix(freq_matrix, count_doc_per_words, total_documents)\n",
    "print(idf_matrix)"
   ]
  },
  {
   "cell_type": "code",
   "execution_count": 136,
   "metadata": {},
   "outputs": [],
   "source": [
    "def _create_tf_idf_matrix(tf_matrix, idf_matrix):\n",
    "    tf_idf_matrix = {}\n",
    "\n",
    "    for (sent1, f_table1), (sent2, f_table2) in zip(tf_matrix.items(), idf_matrix.items()):\n",
    "\n",
    "        tf_idf_table = {}\n",
    "\n",
    "        for (word1, value1), (word2, value2) in zip(f_table1.items(),\n",
    "                                                    f_table2.items()):  # here, keys are the same in both the table\n",
    "            tf_idf_table[word1] = float(value1 * value2)\n",
    "\n",
    "        tf_idf_matrix[sent1] = tf_idf_table\n",
    "\n",
    "    return tf_idf_matrix"
   ]
  },
  {
   "cell_type": "code",
   "execution_count": 137,
   "metadata": {},
   "outputs": [
    {
     "name": "stdout",
     "output_type": "stream",
     "text": [
      "{'The current tax': {'current': 0.017301739507479895, 'tax': 0.012640436479311706, 'environ': 0.03039000018852256, 'character': 0.03039000018852256, 'author': 0.017301739507479895, 'requir': 0.03039000018852256, 'increas': 0.009645597809406799, 'transpar': 0.03039000018852256, 'across': 0.06078000037704512, 'jurisdict': 0.03039000018852256, ',': 0.0, 'share': 0.03039000018852256, 'inform': 0.017301739507479895, 'appli': 0.03039000018852256, 'determin': 0.03039000018852256, 'approach': 0.03039000018852256, 'manag': 0.017301739507479895, 'collect': 0.03039000018852256, 'process': 0.03039000018852256, 'lack': 0.03039000018852256, 'consist': 0.03039000018852256, 'border': 0.03039000018852256, '.': 0.0}, 'This is expandi': {'thi': 0.023408235804237506, 'expand': 0.04111588260800111, 'complianc': 0.013049926448020964, 'workload': 0.04111588260800111, 'busi': 0.04681647160847501, ',': 0.0, 'expos': 0.04111588260800111, 'increas': 0.013049926448020964, 'tax': 0.005700589000473907, 'risk': 0.023408235804237506, 'uncertainti': 0.04111588260800111, 'sustain': 0.04111588260800111, 'current': 0.023408235804237506, 'model': 0.04111588260800111, 'group': 0.04111588260800111, 'structur': 0.04111588260800111, '.': 0.0}, 'To help overcom': {'help': 0.031771363833455406, 'overcom': 0.031771363833455406, 'challeng': 0.031771363833455406, ',': 0.0, 'busi': 0.018088182212365345, 'central': 0.031771363833455406, 'complianc': 0.02016806814694149, 'use': 0.03617636442473069, 'technolog': 0.031771363833455406, 'aggreg': 0.031771363833455406, 'valid': 0.031771363833455406, 'report': 0.031771363833455406, 'purpos': 0.031771363833455406, 'data': 0.010084034073470746, 'analyt': 0.010084034073470746, 'inform': 0.018088182212365345, 'gather': 0.031771363833455406, 'identifi': 0.031771363833455406, 'anomali': 0.031771363833455406, 'mitig': 0.031771363833455406, 'risk': 0.018088182212365345, '.': 0.0}, 'To manage this ': {'manag': 0.012435625271001175, 'thi': 0.012435625271001175, 'chang': 0.02184281263550059, 'landscap': 0.02184281263550059, ',': 0.0, 'alongsid': 0.02184281263550059, 'increas': 0.006932773425511137, 'use': 0.012435625271001175, 'analyt': 0.013865546851022275, 'tax': 0.00908531371950529, 'author': 0.012435625271001175, 'advisor': 0.02184281263550059, 'start': 0.02184281263550059, 'explor': 0.02184281263550059, 'possibl': 0.02184281263550059, 'deploy': 0.02184281263550059, 'sophist': 0.02184281263550059, 'data': 0.006932773425511137, 'artifici': 0.012435625271001175, 'intellig': 0.012435625271001175, '(': 0.02184281263550059, 'ai': 0.02184281263550059, ')': 0.02184281263550059, 'facilit': 0.02184281263550059, 'complianc': 0.006932773425511137, 'assist': 0.02184281263550059, 'profession': 0.02184281263550059, 'client': 0.02184281263550059, 'commonli': 0.02184281263550059, 'encount': 0.02184281263550059, 'question': 0.02184281263550059, '.': 0.0}, 'While data anal': {'data': 0.01584633925831117, 'analyt': 0.01584633925831117, 'ha': 0.0499264288811442, 'receiv': 0.0499264288811442, 'lot': 0.0499264288811442, 'attent': 0.0499264288811442, ',': 0.0, 'artifici': 0.02842428633371697, 'intellig': 0.02842428633371697, 'tax': 0.006922143786289744, 'rel': 0.0499264288811442, 'new': 0.0499264288811442, 'phenomenon': 0.0499264288811442, '.': 0.0}}\n"
     ]
    }
   ],
   "source": [
    "tf_idf_matrix = _create_tf_idf_matrix(tf_matrix, idf_matrix)\n",
    "print(tf_idf_matrix)"
   ]
  },
  {
   "cell_type": "code",
   "execution_count": 138,
   "metadata": {},
   "outputs": [],
   "source": [
    "def _score_sentences(tf_idf_matrix) -> dict:\n",
    "    \"\"\"\n",
    "    score a sentence by its word's TF\n",
    "    Basic algorithm: adding the TF frequency of every non-stop word in a sentence divided by total no of words in a sentence.\n",
    "    :rtype: dict\n",
    "    \"\"\"\n",
    "\n",
    "    sentenceValue = {}\n",
    "\n",
    "    for sent, f_table in tf_idf_matrix.items():\n",
    "        total_score_per_sentence = 0\n",
    "\n",
    "        count_words_in_sentence = len(f_table)\n",
    "        for word, score in f_table.items():\n",
    "            total_score_per_sentence += score\n",
    "\n",
    "        sentenceValue[sent] = total_score_per_sentence / count_words_in_sentence\n",
    "\n",
    "    return sentenceValue"
   ]
  },
  {
   "cell_type": "code",
   "execution_count": 140,
   "metadata": {},
   "outputs": [
    {
     "name": "stdout",
     "output_type": "stream",
     "text": [
      "{'The current tax': 0.02511882588413039, 'This is expandi': 0.028104040104806598, 'To help overcom': 0.02471839896321045, 'To manage this ': 0.01666801164211185, 'While data anal': 0.031782028367025386}\n"
     ]
    }
   ],
   "source": [
    "sentence_scores = _score_sentences(tf_idf_matrix)\n",
    "print(sentence_scores)"
   ]
  },
  {
   "cell_type": "code",
   "execution_count": 141,
   "metadata": {},
   "outputs": [],
   "source": [
    "def _find_average_score(sentenceValue) -> int:\n",
    "    \"\"\"\n",
    "    Find the average score from the sentence value dictionary\n",
    "    :rtype: int\n",
    "    \"\"\"\n",
    "    sumValues = 0\n",
    "    for entry in sentenceValue:\n",
    "        sumValues += sentenceValue[entry]\n",
    "\n",
    "    # Average value of a sentence from original summary_text\n",
    "    average = (sumValues / len(sentenceValue))\n",
    "\n",
    "    return average"
   ]
  },
  {
   "cell_type": "code",
   "execution_count": 142,
   "metadata": {},
   "outputs": [
    {
     "name": "stdout",
     "output_type": "stream",
     "text": [
      "0.025278260992256933\n"
     ]
    }
   ],
   "source": [
    "threshold = _find_average_score(sentence_scores)\n",
    "print(threshold)"
   ]
  },
  {
   "cell_type": "code",
   "execution_count": 143,
   "metadata": {},
   "outputs": [],
   "source": [
    "def _generate_summary(sentences, sentenceValue, threshold):\n",
    "    sentence_count = 0\n",
    "    summary = ''\n",
    "\n",
    "    for sentence in sentences:\n",
    "        if sentence[:15] in sentenceValue and sentenceValue[sentence[:15]] >= (threshold):\n",
    "            summary += \" \" + sentence\n",
    "            sentence_count += 1\n",
    "\n",
    "    return summary"
   ]
  },
  {
   "cell_type": "code",
   "execution_count": 144,
   "metadata": {},
   "outputs": [
    {
     "name": "stdout",
     "output_type": "stream",
     "text": [
      " This is expanding the compliance workload for businesses, while they are exposed to increased tax risk and uncertainty about the sustainability of current business models and group structures. While data analytics has received a lot of attention, Artificial Intelligence in tax is a relatively new phenomenon.\n"
     ]
    }
   ],
   "source": [
    "summary=_generate_summary(sentences, sentence_scores, threshold)\n",
    "print(summary)"
   ]
  },
  {
   "cell_type": "markdown",
   "metadata": {},
   "source": [
    "#### 8.Write a function that takes a list of words (containing duplicates) (i.e. words=['table','chair','desk','table','table','chair']) and returns a list of words (with no duplicates) sorted by decreasing frequency. E.g. if the input list contained 10 instances of the word table and 9 instances of the word chair, then table would appear before chair in the output list. You should use lambda in the sorted( ) function."
   ]
  },
  {
   "cell_type": "code",
   "execution_count": 178,
   "metadata": {},
   "outputs": [],
   "source": [
    "from nltk import word_tokenize\n",
    "\n",
    "def frequency_sort(sample):\n",
    "    freq_table = {}\n",
    "    for word in sample:\n",
    "        if word in freq_table:\n",
    "            freq_table[word] += 1\n",
    "        else:\n",
    "            freq_table[word] = 1\n",
    "    sorted_dict = dict( sorted(freq_table.items(),\n",
    "                           key=lambda item: item[1],\n",
    "                           reverse=True))\n",
    "    keysList = list(sorted_dict.keys())\n",
    "    print(keysList)"
   ]
  },
  {
   "cell_type": "code",
   "execution_count": 179,
   "metadata": {},
   "outputs": [],
   "source": [
    "words = ['table' , 'chair' , 'desk' , 'table' , 'table' , 'chair' , 'James' , 'James' , 'James' , 'Lee' , 'Flow' , 'Sick' , 'Youtube' , 'Youtube' , 'Sick' , 'Youtube' , 'You']"
   ]
  },
  {
   "cell_type": "code",
   "execution_count": 180,
   "metadata": {},
   "outputs": [
    {
     "name": "stdout",
     "output_type": "stream",
     "text": [
      "['table', 'James', 'Youtube', 'chair', 'Sick', 'desk', 'Lee', 'Flow', 'You']\n"
     ]
    }
   ],
   "source": [
    "frequency_sort(words)"
   ]
  },
  {
   "cell_type": "code",
   "execution_count": 182,
   "metadata": {},
   "outputs": [],
   "source": [
    "def frequency_sort2(sample):\n",
    "    freq_table = {}\n",
    "    for word in sample:\n",
    "        if word in freq_table:\n",
    "            freq_table[word] += 1\n",
    "        else:\n",
    "            freq_table[word] = 1\n",
    "    sorted_dict = dict( sorted(freq_table.items(),\n",
    "                           key=lambda item: item[1],\n",
    "                           reverse=True))\n",
    "    return sorted_dict"
   ]
  },
  {
   "cell_type": "code",
   "execution_count": 183,
   "metadata": {},
   "outputs": [
    {
     "data": {
      "text/plain": [
       "{'table': 3,\n",
       " 'James': 3,\n",
       " 'Youtube': 3,\n",
       " 'chair': 2,\n",
       " 'Sick': 2,\n",
       " 'desk': 1,\n",
       " 'Lee': 1,\n",
       " 'Flow': 1,\n",
       " 'You': 1}"
      ]
     },
     "execution_count": 183,
     "metadata": {},
     "output_type": "execute_result"
    }
   ],
   "source": [
    "frequency_sort2(words)"
   ]
  },
  {
   "cell_type": "markdown",
   "metadata": {},
   "source": [
    "#### 9. Write a function that takes a text (e.g. text3 from nltk.book) and a vocabulary (e.g. nltk.corpus.words.words()) as its arguments and returns the set of words that appear in the text but not in the vocabulary. Both arguments can be represented as lists of strings. Can you do this by using set.difference()?"
   ]
  },
  {
   "cell_type": "code",
   "execution_count": 210,
   "metadata": {},
   "outputs": [],
   "source": [
    "def set_of_words(text, vocabulary):\n",
    "    text = set(w.lower() for w in text3 if w.isalpha())\n",
    "    vocabulary = set(w.lower() for w in vocabulary)\n",
    "    \n",
    "    return text.difference(vocabulary)\n",
    "    "
   ]
  },
  {
   "cell_type": "code",
   "execution_count": 211,
   "metadata": {},
   "outputs": [
    {
     "data": {
      "text/plain": [
       "<Text: The Book of Genesis>"
      ]
     },
     "execution_count": 211,
     "metadata": {},
     "output_type": "execute_result"
    }
   ],
   "source": [
    "text3"
   ]
  },
  {
   "cell_type": "code",
   "execution_count": 212,
   "metadata": {},
   "outputs": [],
   "source": [
    "wordlist=[w for w in nltk.corpus.words.words('en') if w.islower()]"
   ]
  },
  {
   "cell_type": "code",
   "execution_count": 213,
   "metadata": {},
   "outputs": [
    {
     "data": {
      "text/plain": [
       "{'officers',\n",
       " 'morter',\n",
       " 'fatfleshed',\n",
       " 'tim',\n",
       " 'restored',\n",
       " 'eshban',\n",
       " 'hittite',\n",
       " 'kn',\n",
       " 'required',\n",
       " 'eyes',\n",
       " 'elam',\n",
       " 'merari',\n",
       " 'deborah',\n",
       " 'sichem',\n",
       " 'traffick',\n",
       " 'rehoboth',\n",
       " 'interpreted',\n",
       " 'zaavan',\n",
       " 'heber',\n",
       " 'jabal',\n",
       " 'embalmed',\n",
       " 'garmen',\n",
       " 'gathered',\n",
       " 'diklah',\n",
       " 'digged',\n",
       " 'gomorrah',\n",
       " 'judged',\n",
       " 'wandered',\n",
       " 'ephraim',\n",
       " 'saith',\n",
       " 'shuni',\n",
       " 'shaveh',\n",
       " 'kenites',\n",
       " 'ringstraked',\n",
       " 'hor',\n",
       " 'javan',\n",
       " 'shouldest',\n",
       " 'images',\n",
       " 'selfwill',\n",
       " 'inhabitants',\n",
       " 'bak',\n",
       " 'espied',\n",
       " 'rulers',\n",
       " 'rebuked',\n",
       " 'things',\n",
       " 'eliphaz',\n",
       " 'seeth',\n",
       " 'phara',\n",
       " 'oversig',\n",
       " 'clusters',\n",
       " 'commended',\n",
       " 'zuzims',\n",
       " 'threshingfloor',\n",
       " 'trees',\n",
       " 'embraced',\n",
       " 'mercies',\n",
       " 'travailed',\n",
       " 'twins',\n",
       " 'hiddekel',\n",
       " 'wrestlings',\n",
       " 'seas',\n",
       " 'thahash',\n",
       " 'raamah',\n",
       " 'sabtah',\n",
       " 'menservants',\n",
       " 'riv',\n",
       " 'whoso',\n",
       " 'eber',\n",
       " 'padan',\n",
       " 'sinners',\n",
       " 'concubi',\n",
       " 'goshen',\n",
       " 'children',\n",
       " 'rebek',\n",
       " 'jamin',\n",
       " 'stars',\n",
       " 'sto',\n",
       " 'beriah',\n",
       " 'havilah',\n",
       " 'assyr',\n",
       " 'chode',\n",
       " 'zeboim',\n",
       " 'adullamite',\n",
       " 'fruits',\n",
       " 'overtook',\n",
       " 'aram',\n",
       " 'kinds',\n",
       " 'damascus',\n",
       " 'ceased',\n",
       " 'charged',\n",
       " 'hazezontamar',\n",
       " 'garments',\n",
       " 'voi',\n",
       " 'guiding',\n",
       " 'doth',\n",
       " 'archers',\n",
       " 'hivite',\n",
       " 'camels',\n",
       " 'succoth',\n",
       " 'numbering',\n",
       " 'ophir',\n",
       " 'beerlahairoi',\n",
       " 'mandrakes',\n",
       " 'souls',\n",
       " 'nahor',\n",
       " 'asked',\n",
       " 'coats',\n",
       " 'cities',\n",
       " 'leah',\n",
       " 'dothan',\n",
       " 'cakes',\n",
       " 'bre',\n",
       " 'kedemah',\n",
       " 'sheleph',\n",
       " 'lentiles',\n",
       " 'ephra',\n",
       " 'bethlehem',\n",
       " 'waters',\n",
       " 'kings',\n",
       " 'reuben',\n",
       " 'eri',\n",
       " 'fetcht',\n",
       " 'rewarded',\n",
       " 'gerar',\n",
       " 'called',\n",
       " 'families',\n",
       " 'pla',\n",
       " 'presented',\n",
       " 'husham',\n",
       " 'shuah',\n",
       " 'hills',\n",
       " 'dinah',\n",
       " 'served',\n",
       " 'reigned',\n",
       " 'hazo',\n",
       " 'arioch',\n",
       " 'calneh',\n",
       " 'nebajoth',\n",
       " 'bered',\n",
       " 'laded',\n",
       " 'co',\n",
       " 'feebler',\n",
       " 'assyria',\n",
       " 'struggled',\n",
       " 'tongues',\n",
       " 'hanged',\n",
       " 'thi',\n",
       " 'comforted',\n",
       " 'amalekites',\n",
       " 'zibeon',\n",
       " 'bilhan',\n",
       " 'circumcis',\n",
       " 'childr',\n",
       " 'began',\n",
       " 'shoulders',\n",
       " 'branches',\n",
       " 'conceived',\n",
       " 'nations',\n",
       " 'slayeth',\n",
       " 'comi',\n",
       " 'potipherah',\n",
       " 'reumah',\n",
       " 'haggi',\n",
       " 'sheddeth',\n",
       " 'edom',\n",
       " 'horsemen',\n",
       " 'gods',\n",
       " 'adam',\n",
       " 'asketh',\n",
       " 'gavest',\n",
       " 'eliezer',\n",
       " 'prayed',\n",
       " 'zohar',\n",
       " 'ithran',\n",
       " 'believed',\n",
       " 'manasseh',\n",
       " 'appeared',\n",
       " 'households',\n",
       " 'flo',\n",
       " 'sevens',\n",
       " 'ships',\n",
       " 'beari',\n",
       " 'jachin',\n",
       " 'mouths',\n",
       " 'reub',\n",
       " 'instruments',\n",
       " 'zeboiim',\n",
       " 'lads',\n",
       " 'entered',\n",
       " 'compassed',\n",
       " 'followed',\n",
       " 'daughte',\n",
       " 'fai',\n",
       " 'bracelets',\n",
       " 'leummim',\n",
       " 'bozrah',\n",
       " 'egyptians',\n",
       " 'lighted',\n",
       " 'avith',\n",
       " 'ethiopia',\n",
       " 'hemam',\n",
       " 'colours',\n",
       " 'thorns',\n",
       " 'younge',\n",
       " 'girgasite',\n",
       " 'endued',\n",
       " 'hagar',\n",
       " 'eleloheisrael',\n",
       " 'progenitors',\n",
       " 'machir',\n",
       " 'deprived',\n",
       " 'rods',\n",
       " 'dukes',\n",
       " 'abated',\n",
       " 'verified',\n",
       " 'awaked',\n",
       " 'shewed',\n",
       " 'anah',\n",
       " 'rachel',\n",
       " 'toucheth',\n",
       " 'erected',\n",
       " 'pris',\n",
       " 'goeth',\n",
       " 'anoth',\n",
       " 'strangers',\n",
       " 'mocked',\n",
       " 'mizraim',\n",
       " 'jebusite',\n",
       " 'bilhah',\n",
       " 'womenservants',\n",
       " 'fowls',\n",
       " 'hasted',\n",
       " 'weaned',\n",
       " 'elah',\n",
       " 'aran',\n",
       " 'togarmah',\n",
       " 'parts',\n",
       " 'beguiled',\n",
       " 'zarah',\n",
       " 'standest',\n",
       " 'hamor',\n",
       " 'hebron',\n",
       " 'ri',\n",
       " 'remembered',\n",
       " 'egypt',\n",
       " 'ki',\n",
       " 'akan',\n",
       " 'weapons',\n",
       " 'hebrew',\n",
       " 'bou',\n",
       " 'eden',\n",
       " 'elders',\n",
       " 'hil',\n",
       " 'gifts',\n",
       " 'walketh',\n",
       " 'hori',\n",
       " 'wells',\n",
       " 'sakes',\n",
       " 'pleaseth',\n",
       " 'casluhim',\n",
       " 'alvan',\n",
       " 'ishmael',\n",
       " 'longedst',\n",
       " 'asshurim',\n",
       " 'lambs',\n",
       " 'japhe',\n",
       " 'tarshish',\n",
       " 'shelah',\n",
       " 'lords',\n",
       " 'naphish',\n",
       " 'methuselah',\n",
       " 'daughers',\n",
       " 'reu',\n",
       " 'measures',\n",
       " 'cana',\n",
       " 'dishon',\n",
       " 'serva',\n",
       " 'mehetabel',\n",
       " 'pieces',\n",
       " 'breasts',\n",
       " 'mahalaleel',\n",
       " 'grisled',\n",
       " 'feet',\n",
       " 'midianites',\n",
       " 'fathers',\n",
       " 'zimran',\n",
       " 'mibsam',\n",
       " 'loins',\n",
       " 'naphtali',\n",
       " 'ewes',\n",
       " 'barr',\n",
       " 'ishbak',\n",
       " 'troubled',\n",
       " 'epher',\n",
       " 'halted',\n",
       " 'jokshan',\n",
       " 'keturah',\n",
       " 'kiriathaim',\n",
       " 'isra',\n",
       " 'peop',\n",
       " 'clo',\n",
       " 'enos',\n",
       " 'concubines',\n",
       " 'twel',\n",
       " 'gihon',\n",
       " 'dea',\n",
       " 'pillows',\n",
       " 'lud',\n",
       " 'methusael',\n",
       " 'asher',\n",
       " 'jubal',\n",
       " 'philistines',\n",
       " 'laban',\n",
       " 'abelmizraim',\n",
       " 'arrayed',\n",
       " 'spi',\n",
       " 'supplanted',\n",
       " 'strengthened',\n",
       " 'onam',\n",
       " 'nostrils',\n",
       " 'karnaim',\n",
       " 'planted',\n",
       " 'achbor',\n",
       " 'friends',\n",
       " 'jegarsahadutha',\n",
       " 'passed',\n",
       " 'phichol',\n",
       " 'repenteth',\n",
       " 'bethuel',\n",
       " 'abel',\n",
       " 'methusa',\n",
       " 'rams',\n",
       " 'jared',\n",
       " 'having',\n",
       " 'fema',\n",
       " 'edomites',\n",
       " 'loveth',\n",
       " 'abram',\n",
       " 'tithes',\n",
       " 'fleddest',\n",
       " 'firstlings',\n",
       " 'flocks',\n",
       " 'months',\n",
       " 'redeemed',\n",
       " 'ephrath',\n",
       " 'sarah',\n",
       " 'rephaims',\n",
       " 'gatam',\n",
       " 'naaman',\n",
       " 'sojourned',\n",
       " 'shew',\n",
       " 'kissed',\n",
       " 'created',\n",
       " 'boys',\n",
       " 'naphtuhim',\n",
       " 'shemeber',\n",
       " 'hobah',\n",
       " 'blesseth',\n",
       " 'midian',\n",
       " 'whales',\n",
       " 'blossoms',\n",
       " 'meanest',\n",
       " 'liveth',\n",
       " 'speckl',\n",
       " 'tebah',\n",
       " 'thistles',\n",
       " 'gershon',\n",
       " 'captives',\n",
       " 'hai',\n",
       " 'wor',\n",
       " 'timna',\n",
       " 'manass',\n",
       " 'messengers',\n",
       " 'towns',\n",
       " 'hadst',\n",
       " 'abidah',\n",
       " 'words',\n",
       " 'fle',\n",
       " 'riphath',\n",
       " 'silv',\n",
       " 'malchiel',\n",
       " 'mizpah',\n",
       " 'hith',\n",
       " 'accad',\n",
       " 'arbah',\n",
       " 'arvadite',\n",
       " 'syrian',\n",
       " 'rul',\n",
       " 'knoweth',\n",
       " 'masrekah',\n",
       " 'seest',\n",
       " 'ebal',\n",
       " 'longeth',\n",
       " 'commanded',\n",
       " 'fishes',\n",
       " 'famished',\n",
       " 'proceedeth',\n",
       " 'ashkenaz',\n",
       " 'gutters',\n",
       " 'reached',\n",
       " 'zemarite',\n",
       " 'esau',\n",
       " 'plains',\n",
       " 'matred',\n",
       " 'jetur',\n",
       " 'possessions',\n",
       " 'waited',\n",
       " 'kadesh',\n",
       " 'putting',\n",
       " 'morever',\n",
       " 'visions',\n",
       " 'carcases',\n",
       " 'tents',\n",
       " 'shepherds',\n",
       " 'bashemath',\n",
       " 'destroyed',\n",
       " 'korah',\n",
       " 'saidst',\n",
       " 'adah',\n",
       " 'grap',\n",
       " 'numbered',\n",
       " 'judah',\n",
       " 'pathrusim',\n",
       " 'drinketh',\n",
       " 'gaza',\n",
       " 'elon',\n",
       " 'machpelah',\n",
       " 'mahanaim',\n",
       " 'reviv',\n",
       " 'jerah',\n",
       " 'pleased',\n",
       " 'ashbel',\n",
       " 'caphtorim',\n",
       " 'lahairoi',\n",
       " 'ard',\n",
       " 'blessings',\n",
       " 'ohad',\n",
       " 'hirah',\n",
       " 'opened',\n",
       " 'obeyed',\n",
       " 'mayest',\n",
       " 'peniel',\n",
       " 'castles',\n",
       " 'fountains',\n",
       " 'hezron',\n",
       " 'horses',\n",
       " 'windows',\n",
       " 'pluckt',\n",
       " 'areli',\n",
       " 'songs',\n",
       " 'horites',\n",
       " 'builded',\n",
       " 'penuel',\n",
       " 'letushim',\n",
       " 'gera',\n",
       " 'forgat',\n",
       " 'played',\n",
       " 'handmaids',\n",
       " 'purposing',\n",
       " 'hamul',\n",
       " 'milcah',\n",
       " 'troughs',\n",
       " 'pressed',\n",
       " 'youngest',\n",
       " 'faileth',\n",
       " 'hou',\n",
       " 'shillem',\n",
       " 'marriages',\n",
       " 'amal',\n",
       " 'ezer',\n",
       " 'arphaxad',\n",
       " 'kadmonites',\n",
       " 'sacrifices',\n",
       " 'laughed',\n",
       " 'horite',\n",
       " 'jehovahjireh',\n",
       " 'eshcol',\n",
       " 'conspired',\n",
       " 'vowedst',\n",
       " 'names',\n",
       " 'mizz',\n",
       " 'hast',\n",
       " 'uzal',\n",
       " 'suffered',\n",
       " 'ephron',\n",
       " 'citi',\n",
       " 'beersheba',\n",
       " 'discerned',\n",
       " 'giveth',\n",
       " 'cheran',\n",
       " 'faces',\n",
       " 'perizzites',\n",
       " 'ehi',\n",
       " 'zebulun',\n",
       " 'despised',\n",
       " 'poured',\n",
       " 'hittites',\n",
       " 'kedar',\n",
       " 'honour',\n",
       " 'servants',\n",
       " 'hairs',\n",
       " 'generations',\n",
       " 'abimelech',\n",
       " 'zaphnathpaaneah',\n",
       " 'salem',\n",
       " 'wombs',\n",
       " 'ajah',\n",
       " 'skins',\n",
       " 'canaan',\n",
       " 'sepulchres',\n",
       " 'heels',\n",
       " 'benam',\n",
       " 'dinhabah',\n",
       " 'worshipped',\n",
       " 'slimepits',\n",
       " 'luz',\n",
       " 'bodies',\n",
       " 'naamah',\n",
       " 'oa',\n",
       " 'jetheth',\n",
       " 'sheba',\n",
       " 'enemies',\n",
       " 'favour',\n",
       " 'rameses',\n",
       " 'overthrew',\n",
       " 'omar',\n",
       " 'abr',\n",
       " 'siddim',\n",
       " 'simeon',\n",
       " 'cru',\n",
       " 'mam',\n",
       " 'pitched',\n",
       " 'lamech',\n",
       " 'clothed',\n",
       " 'isa',\n",
       " 'jebusites',\n",
       " 'habitations',\n",
       " 'carmi',\n",
       " 'ziphion',\n",
       " 'wrestled',\n",
       " 'tema',\n",
       " 'jacob',\n",
       " 'sowed',\n",
       " 'hazarmaveth',\n",
       " 'servan',\n",
       " 'likene',\n",
       " 'paran',\n",
       " 'kids',\n",
       " 'thoughts',\n",
       " 'budded',\n",
       " 'mules',\n",
       " 'journeyed',\n",
       " 'jobab',\n",
       " 'honourable',\n",
       " 'findeth',\n",
       " 'natio',\n",
       " 'kine',\n",
       " 'alvah',\n",
       " 'buz',\n",
       " 'anointedst',\n",
       " 'chariots',\n",
       " 'remaineth',\n",
       " 'searched',\n",
       " 'shel',\n",
       " 'pharaoh',\n",
       " 'spe',\n",
       " 'hated',\n",
       " 'lifted',\n",
       " 'commandments',\n",
       " 'westwa',\n",
       " 'years',\n",
       " 'vestures',\n",
       " 'became',\n",
       " 'sered',\n",
       " 'held',\n",
       " 'merchantmen',\n",
       " 'sheweth',\n",
       " 'husba',\n",
       " 'persons',\n",
       " 'asshur',\n",
       " 'aholibamah',\n",
       " 'nuts',\n",
       " 'seemed',\n",
       " 'seir',\n",
       " 'enoch',\n",
       " 'badne',\n",
       " 'shechem',\n",
       " 'tamar',\n",
       " 'shimron',\n",
       " 'hadoram',\n",
       " 'mightier',\n",
       " 'serah',\n",
       " 'huppim',\n",
       " 'handmaidens',\n",
       " 'aner',\n",
       " 'fainted',\n",
       " 'baalhanan',\n",
       " 'zoar',\n",
       " 'wiv',\n",
       " 'begettest',\n",
       " 'grapes',\n",
       " 'shoelatchet',\n",
       " 'phuvah',\n",
       " 'japheth',\n",
       " 'mishma',\n",
       " 'catt',\n",
       " 'bakers',\n",
       " 'befell',\n",
       " 'waxed',\n",
       " 'fo',\n",
       " 'magdiel',\n",
       " 'jaalam',\n",
       " 'males',\n",
       " 'tubalcain',\n",
       " 'sceptre',\n",
       " 'firstborn',\n",
       " 'serug',\n",
       " 'bondmen',\n",
       " 'darkne',\n",
       " 'esek',\n",
       " 'journeys',\n",
       " 'multiplied',\n",
       " 'joined',\n",
       " 'hang',\n",
       " 'hearkened',\n",
       " 'jimnah',\n",
       " 'lamentati',\n",
       " 'gr',\n",
       " 'chesnut',\n",
       " 'hadar',\n",
       " 'calah',\n",
       " 'healed',\n",
       " 'herds',\n",
       " 'communed',\n",
       " 'savoury',\n",
       " 'nahath',\n",
       " 'nati',\n",
       " 'strakes',\n",
       " 'refused',\n",
       " 'moabites',\n",
       " 'favoured',\n",
       " 'beasts',\n",
       " 'uz',\n",
       " 'women',\n",
       " 'tola',\n",
       " 'giants',\n",
       " 'spee',\n",
       " 'isui',\n",
       " 'iscah',\n",
       " 'princes',\n",
       " 'abraham',\n",
       " 'obal',\n",
       " 'haran',\n",
       " 'countries',\n",
       " 'hul',\n",
       " 'shepho',\n",
       " 'reuel',\n",
       " 'dunge',\n",
       " 'amalek',\n",
       " 'jemuel',\n",
       " 'tarried',\n",
       " 'cubits',\n",
       " 'gre',\n",
       " 'manahath',\n",
       " 'pursued',\n",
       " 'denied',\n",
       " 'mehujael',\n",
       " 'abrah',\n",
       " 'hastened',\n",
       " 'eno',\n",
       " 'pison',\n",
       " 'tru',\n",
       " 'pharez',\n",
       " 'saul',\n",
       " 'isaac',\n",
       " 'chaldees',\n",
       " 'chezib',\n",
       " 'decreased',\n",
       " 'perizzit',\n",
       " 'prospered',\n",
       " 'fearest',\n",
       " 'arodi',\n",
       " 'togeth',\n",
       " 'gard',\n",
       " 'changed',\n",
       " 'bones',\n",
       " 'camest',\n",
       " 'sle',\n",
       " 'almodad',\n",
       " 'nineveh',\n",
       " 'consumed',\n",
       " 'wentest',\n",
       " 'asswaged',\n",
       " 'handfuls',\n",
       " 'rosh',\n",
       " 'peleg',\n",
       " 'perceived',\n",
       " 'themselv',\n",
       " 'sitnah',\n",
       " 'euphrat',\n",
       " 'preserved',\n",
       " 'herdmen',\n",
       " 'nourished',\n",
       " 'birsha',\n",
       " 'daught',\n",
       " 'samlah',\n",
       " 'doeth',\n",
       " 'blessi',\n",
       " 'gro',\n",
       " 'kemuel',\n",
       " 'remained',\n",
       " 'fath',\n",
       " 'dishan',\n",
       " 'euphrates',\n",
       " 'talked',\n",
       " 'rebelled',\n",
       " 'sidon',\n",
       " 'admah',\n",
       " 'irad',\n",
       " 'huz',\n",
       " 'tiras',\n",
       " 'temani',\n",
       " 'daughters',\n",
       " 'amraphel',\n",
       " 'emins',\n",
       " 'heth',\n",
       " 'trembled',\n",
       " 'lovest',\n",
       " 'onan',\n",
       " 'wives',\n",
       " 'mahalath',\n",
       " 'earrings',\n",
       " 'heard',\n",
       " 'meshech',\n",
       " 'allonbachuth',\n",
       " 'ahuzzath',\n",
       " 'goest',\n",
       " 'jidlaph',\n",
       " 'butlers',\n",
       " 'muppim',\n",
       " 'abimael',\n",
       " 'amorites',\n",
       " 'droves',\n",
       " 'philistim',\n",
       " 'maachah',\n",
       " 'mountains',\n",
       " 'tr',\n",
       " 'visited',\n",
       " 'generatio',\n",
       " 'mocking',\n",
       " 'jac',\n",
       " 'lingered',\n",
       " 'zepho',\n",
       " 'kindled',\n",
       " 'sephar',\n",
       " 'urged',\n",
       " 'intreated',\n",
       " 'priests',\n",
       " 'jezer',\n",
       " 'shinar',\n",
       " 'issachar',\n",
       " 'seasons',\n",
       " 'failed',\n",
       " 'leanfleshed',\n",
       " 'cainan',\n",
       " 'delivered',\n",
       " 'speaketh',\n",
       " 'moved',\n",
       " 'boug',\n",
       " 'zebul',\n",
       " 'hadad',\n",
       " 'walked',\n",
       " 'damsels',\n",
       " 'prevailed',\n",
       " 'heads',\n",
       " 'changes',\n",
       " 'guni',\n",
       " 'resen',\n",
       " 'bands',\n",
       " 'perizzite',\n",
       " 'ir',\n",
       " 'sinning',\n",
       " 'ellasar',\n",
       " 'dodanim',\n",
       " 'fulfil',\n",
       " 'ararat',\n",
       " 'bulls',\n",
       " 'answered',\n",
       " 'elishah',\n",
       " 'beor',\n",
       " 'lotan',\n",
       " 'ribs',\n",
       " 'nimrod',\n",
       " 'burdens',\n",
       " 'deeds',\n",
       " 'borders',\n",
       " 'buryingplace',\n",
       " 'hanoch',\n",
       " 'offerings',\n",
       " 'sinite',\n",
       " 'rooms',\n",
       " 'egyptia',\n",
       " 'biteth',\n",
       " 'ishuah',\n",
       " 'shrubs',\n",
       " 'madai',\n",
       " 'adbeel',\n",
       " 'appe',\n",
       " 'goats',\n",
       " 'canst',\n",
       " 'hous',\n",
       " 'noah',\n",
       " 'hid',\n",
       " 'hunter',\n",
       " 'hitti',\n",
       " 'crieth',\n",
       " 'melchizedek',\n",
       " 'thousands',\n",
       " 'terah',\n",
       " 'gaham',\n",
       " 'israel',\n",
       " 'committed',\n",
       " 'birds',\n",
       " 'ludim',\n",
       " 'asses',\n",
       " 'rained',\n",
       " 'findest',\n",
       " 'liest',\n",
       " 'galeed',\n",
       " 'whosoever',\n",
       " 'divineth',\n",
       " 'elparan',\n",
       " 'seekest',\n",
       " 'comest',\n",
       " 'elbethel',\n",
       " 'sarai',\n",
       " 'departing',\n",
       " 'shobal',\n",
       " 'killed',\n",
       " 'marvelled',\n",
       " 'moreh',\n",
       " 'placed',\n",
       " 'sheaves',\n",
       " 'oth',\n",
       " 'possessi',\n",
       " 'mezahab',\n",
       " 'died',\n",
       " 'curseth',\n",
       " 'lives',\n",
       " 'hands',\n",
       " 'knees',\n",
       " 'deceived',\n",
       " 'enmishpat',\n",
       " 'booths',\n",
       " 'shiloh',\n",
       " 'faults',\n",
       " 'avenged',\n",
       " 'magicians',\n",
       " 'hemdan',\n",
       " 'eatest',\n",
       " 'plagues',\n",
       " 'messes',\n",
       " 'offeri',\n",
       " 'stories',\n",
       " 'defiledst',\n",
       " 'circumcised',\n",
       " 'lehabim',\n",
       " 'increased',\n",
       " 'mesha',\n",
       " 'stones',\n",
       " 'dwe',\n",
       " 'jewels',\n",
       " 'sheepshearers',\n",
       " 'tillest',\n",
       " 'chesed',\n",
       " 'bakemeats',\n",
       " 'zerah',\n",
       " 'firmame',\n",
       " 'devoured',\n",
       " 'canaanites',\n",
       " 'mamre',\n",
       " 'magnified',\n",
       " 'mourned',\n",
       " 'medan',\n",
       " 'shammah',\n",
       " 'phallu',\n",
       " 'mibzar',\n",
       " 'timnath',\n",
       " 'weig',\n",
       " 'colts',\n",
       " 'sepulchre',\n",
       " 'counted',\n",
       " 'communing',\n",
       " 'vessels',\n",
       " 'ones',\n",
       " 'edar',\n",
       " 'asenath',\n",
       " 'knowest',\n",
       " 'eldaah',\n",
       " 'shem',\n",
       " 'aprons',\n",
       " 'maidservants',\n",
       " 'breaketh',\n",
       " 'appointed',\n",
       " 'prisoners',\n",
       " 'caused',\n",
       " 'cometh',\n",
       " 'lands',\n",
       " 'ruled',\n",
       " 'sabtech',\n",
       " 'storehouses',\n",
       " 'physicians',\n",
       " 'near',\n",
       " 'jabbok',\n",
       " 'named',\n",
       " 'zidon',\n",
       " 'wagons',\n",
       " 'iram',\n",
       " 'judith',\n",
       " 'erech',\n",
       " 'potiphar',\n",
       " 'emptied',\n",
       " 'jeush',\n",
       " 'dedan',\n",
       " 'kohath',\n",
       " 'pulled',\n",
       " 'ev',\n",
       " 'meeteth',\n",
       " 'hamathite',\n",
       " 'magog',\n",
       " 'lasha',\n",
       " 'places',\n",
       " 'refrained',\n",
       " 'looked',\n",
       " 'purchased',\n",
       " 'seba',\n",
       " 'kenaz',\n",
       " 'joktan',\n",
       " 'fathe',\n",
       " 'shalem',\n",
       " 'shur',\n",
       " 'womenservan',\n",
       " 'levi',\n",
       " 'shebah',\n",
       " 'signs',\n",
       " 'stooped',\n",
       " 'leaped',\n",
       " 'yielded',\n",
       " 'repented',\n",
       " 'isles',\n",
       " 'ishmeelites',\n",
       " 'spake',\n",
       " 'ashteroth',\n",
       " 'lights',\n",
       " 'dost',\n",
       " 'compasseth',\n",
       " 'creepeth',\n",
       " 'fulfilled',\n",
       " 'gilead',\n",
       " 'reproa',\n",
       " 'ste',\n",
       " 'dreamed',\n",
       " 'ears',\n",
       " 'shekels',\n",
       " 'moriah',\n",
       " 'foals',\n",
       " 'moveth',\n",
       " 'dainties',\n",
       " 'kirjatharba',\n",
       " 'hebrews',\n",
       " 'reproved',\n",
       " 'timnah',\n",
       " 'egy',\n",
       " 'tribes',\n",
       " 'statutes',\n",
       " 'sacks',\n",
       " 'gentiles',\n",
       " 'ou',\n",
       " 'dumah',\n",
       " 'hundredfo',\n",
       " 'grisl',\n",
       " 'heav',\n",
       " 'observed',\n",
       " 'zilpah',\n",
       " 'baskets',\n",
       " 'hushim',\n",
       " 'badest',\n",
       " 'attained',\n",
       " 'dreams',\n",
       " 'canaanite',\n",
       " 'kenizzites',\n",
       " 'beeri',\n",
       " 'stronger',\n",
       " 'kid',\n",
       " 'bundles',\n",
       " 'escaped',\n",
       " 'ammon',\n",
       " 'offered',\n",
       " 'imagined',\n",
       " 'loved',\n",
       " ...}"
      ]
     },
     "execution_count": 213,
     "metadata": {},
     "output_type": "execute_result"
    }
   ],
   "source": [
    "set_of_words(text, wordlist)"
   ]
  },
  {
   "cell_type": "markdown",
   "metadata": {},
   "source": [
    "#### 10. Choose your own webpage (in html format) and output the 20 most common words in this web page. You should use w.lower() to normalize the text. Please get rid of stop words, numbers, and punctuations. Please define a function and call that function."
   ]
  },
  {
   "cell_type": "code",
   "execution_count": 227,
   "metadata": {},
   "outputs": [],
   "source": [
    "decomposition = \"https://scikit-learn.org/stable/modules/linear_model.html\""
   ]
  },
  {
   "cell_type": "code",
   "execution_count": 242,
   "metadata": {},
   "outputs": [],
   "source": [
    "from urllib import request\n",
    "from bs4 import BeautifulSoup\n",
    "from nltk.corpus import stopwords\n",
    "stopwords= nltk.corpus.stopwords.words('english')\n",
    "\n",
    "def freq_words(url, n):\n",
    "    html = request.urlopen(url).read().decode('utf8')\n",
    "    text = BeautifulSoup(html, 'html.parser').get_text()\n",
    "    fd = nltk.FreqDist(word.lower() for word in nltk.word_tokenize(text) if(word not in stopwords) and word.isalpha())\n",
    "    return [word for (word, _) in fd.most_common(n)]"
   ]
  },
  {
   "cell_type": "code",
   "execution_count": 243,
   "metadata": {},
   "outputs": [],
   "source": [
    "fd = nltk.FreqDist()"
   ]
  },
  {
   "cell_type": "code",
   "execution_count": 244,
   "metadata": {},
   "outputs": [
    {
     "data": {
      "text/plain": [
       "['the',\n",
       " 'regression',\n",
       " 'model',\n",
       " 'linear',\n",
       " 'w',\n",
       " 'x',\n",
       " 'regularization',\n",
       " 'data',\n",
       " 'coefficients',\n",
       " 'features',\n",
       " 'least',\n",
       " 'number',\n",
       " 'lasso',\n",
       " 'ridge',\n",
       " 'models',\n",
       " 'parameter',\n",
       " 'samples',\n",
       " 'using',\n",
       " 'squares',\n",
       " 'it']"
      ]
     },
     "execution_count": 244,
     "metadata": {},
     "output_type": "execute_result"
    }
   ],
   "source": [
    "freq_words(decomposition, 20)"
   ]
  },
  {
   "cell_type": "code",
   "execution_count": null,
   "metadata": {},
   "outputs": [],
   "source": []
  }
 ],
 "metadata": {
  "kernelspec": {
   "display_name": "Python 3 (ipykernel)",
   "language": "python",
   "name": "python3"
  },
  "language_info": {
   "codemirror_mode": {
    "name": "ipython",
    "version": 3
   },
   "file_extension": ".py",
   "mimetype": "text/x-python",
   "name": "python",
   "nbconvert_exporter": "python",
   "pygments_lexer": "ipython3",
   "version": "3.9.12"
  }
 },
 "nbformat": 4,
 "nbformat_minor": 2
}
